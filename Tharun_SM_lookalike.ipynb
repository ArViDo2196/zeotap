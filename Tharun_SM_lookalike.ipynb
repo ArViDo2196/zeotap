{
  "nbformat": 4,
  "nbformat_minor": 0,
  "metadata": {
    "colab": {
      "provenance": []
    },
    "kernelspec": {
      "name": "python3",
      "display_name": "Python 3"
    },
    "language_info": {
      "name": "python"
    }
  },
  "cells": [
    {
      "cell_type": "code",
      "source": [
        "#import necessary libraries\n",
        "import pandas as pd\n",
        "from scipy.spatial.distance import cosine\n",
        "\n",
        "# Loading the datasets\n",
        "customers_df = pd.read_csv('Customers.csv')\n",
        "products_df = pd.read_csv('Products.csv')\n",
        "transactions_df = pd.read_csv('Transactions.csv')"
      ],
      "metadata": {
        "id": "IggewX97D4_h"
      },
      "execution_count": 5,
      "outputs": []
    },
    {
      "cell_type": "code",
      "source": [
        "# Merge customer and transaction data\n",
        "customer_data = customers.merge(transactions, on='CustomerID')\n",
        "\n",
        "# Build a user-item matrix\n",
        "user_item_matrix = customer_data.pivot_table(index='CustomerID', columns='ProductID', values='Quantity', fill_value=0)\n",
        "\n",
        "# Compute cosine similarity between users\n",
        "user_similarities = user_item_matrix.T.dot(user_item_matrix)\n",
        "# Calculate norm using user_similarities shape for consistency\n",
        "norm = user_item_matrix.pow(2).sum(axis=1).values\n",
        "# Reshape norm to be broadcastable along axis 0\n",
        "norm = norm[:user_similarities.shape[0]]\n",
        "user_similarities = user_similarities.divide(norm, axis=0).divide(norm[:, None], axis=1)\n",
        "user_similarities.fillna(0, inplace=True)\n",
        "\n",
        "# Function to get lookalike customers\n",
        "def recommend_lookalike_customers(customer_id, user_item_matrix, similarities, top_n=3):\n",
        "    if customer_id not in similarities.index:\n",
        "        return []\n",
        "    sim_scores = similarities.loc[customer_id].drop(customer_id).nlargest(top_n)\n",
        "    return list(zip(sim_scores.index, sim_scores.values))\n",
        "\n",
        "# Example usage with a loop for a list of customer IDs\n",
        "customer_ids_to_recommend = customers['CustomerID'].head(20)\n",
        "\n",
        "lookalike_data = {}\n",
        "for cust_id in customer_ids_to_recommend:\n",
        "    recommendations = recommend_lookalike_customers(cust_id, user_item_matrix, user_similarities)\n",
        "    lookalike_data[cust_id] = recommendations\n",
        "\n",
        "# Create a DataFrame for better CSV formatting\n",
        "lookalike_df = pd.DataFrame.from_dict(lookalike_data, orient='index')\n",
        "lookalike_df.index.name = 'cust_id' # Name the index column\n",
        "lookalike_df.to_csv('Lookalike.csv', header=False) # Save without header"
      ],
      "metadata": {
        "id": "h9pi2dA6Ei1V"
      },
      "execution_count": 6,
      "outputs": []
    },
    {
      "cell_type": "code",
      "source": [],
      "metadata": {
        "id": "JetWxQjGGJUj"
      },
      "execution_count": null,
      "outputs": []
    }
  ]
}